{
 "cells": [
  {
   "cell_type": "markdown",
   "metadata": {},
   "source": [
    "# Data Collections 2 (Dictionaries, Sets) and Importing Modules"
   ]
  },
  {
   "cell_type": "markdown",
   "metadata": {},
   "source": [
    "## Tasks Today:\n",
    "\n",
    "1) Dictionary <br>\n",
    " &nbsp;&nbsp;&nbsp;&nbsp; a) Declaring (key, value) <br>\n",
    " &nbsp;&nbsp;&nbsp;&nbsp; b) Accessing Values <br>\n",
    " &nbsp;&nbsp;&nbsp;&nbsp; ------ Exercise #1 - Print the eye color of each person in a double nested dict <br>\n",
    " &nbsp;&nbsp;&nbsp;&nbsp; c) Adding New Pairs <br>\n",
    " &nbsp;&nbsp;&nbsp;&nbsp; d) Modifying Values <br>\n",
    " &nbsp;&nbsp;&nbsp;&nbsp; e) Removing Key, Value Pairs <br>\n",
    " &nbsp;&nbsp;&nbsp;&nbsp; f) Looping a Dictionary <br>\n",
    " &nbsp;&nbsp;&nbsp;&nbsp; g) Looping Only Keys <br>\n",
    " &nbsp;&nbsp;&nbsp;&nbsp; h) Looping Only Values <br>\n",
    " &nbsp;&nbsp;&nbsp;&nbsp; ------ Exercise #2 - Create a Function that Prints All Key Value Pairs within a print .format()  <br>\n",
    " &nbsp;&nbsp;&nbsp;&nbsp; i) sorted() <br>\n",
    " &nbsp;&nbsp;&nbsp;&nbsp; j) Lists with Dictionaries <br>\n",
    " &nbsp;&nbsp;&nbsp;&nbsp; k) Dictionaries with Lists <br>\n",
    " &nbsp;&nbsp;&nbsp;&nbsp; l) Dictionaries with Dictionaries <br>\n",
    " &nbsp;&nbsp;&nbsp;&nbsp; ------ Exercise #3 - Write a Function that asks someone's name and address, and then stores that into a dictionary, which prints all names and addresses after they're done putting information in...  <br>\n",
    "2) Dictionaries vs. Lists (over time)<br>\n",
    "3) Set <br>\n",
    " &nbsp;&nbsp;&nbsp;&nbsp; a) Declaring <br>\n",
    " &nbsp;&nbsp;&nbsp;&nbsp; b) .add() <br>\n",
    " &nbsp;&nbsp;&nbsp;&nbsp; c) .remove() <br>\n",
    " &nbsp;&nbsp;&nbsp;&nbsp; d) .union() <br>\n",
    " &nbsp;&nbsp;&nbsp;&nbsp; e) .intersection() <br>\n",
    " &nbsp;&nbsp;&nbsp;&nbsp; f) .difference() <br>\n",
    " &nbsp;&nbsp;&nbsp;&nbsp; g) Frozen Set <br>\n",
    "4) Modules <br>\n",
    " &nbsp;&nbsp;&nbsp;&nbsp; a) Importing Entire Modules <br>\n",
    " &nbsp;&nbsp;&nbsp;&nbsp; b) Importing Methods Only <br>\n",
    " &nbsp;&nbsp;&nbsp;&nbsp; c) Using the 'as' Keyword <br>\n",
    " &nbsp;&nbsp;&nbsp;&nbsp; d) Creating a Module <br>\n",
    "5) Exercises <br>\n",
    " &nbsp;&nbsp;&nbsp;&nbsp; a) Build a Shopping Cart <br>\n",
    " &nbsp;&nbsp;&nbsp;&nbsp; b) Create Your Own Module <br>"
   ]
  },
  {
   "cell_type": "markdown",
   "metadata": {},
   "source": [
    "## Dictionary <br>\n",
    "<p>A collection of data with 'key:value' pairs. Dictionaries are ordered as of Python 3.6</p>"
   ]
  },
  {
   "cell_type": "markdown",
   "metadata": {},
   "source": [
    "##### Declaring (key, value)"
   ]
  },
  {
   "cell_type": "code",
   "execution_count": 1,
   "metadata": {},
   "outputs": [
    {
     "data": {
      "text/plain": [
       "True"
      ]
     },
     "execution_count": 1,
     "metadata": {},
     "output_type": "execute_result"
    }
   ],
   "source": [
    "# Two ways to create/declare a dictionary\n",
    "mydict = {}\n",
    "\n",
    "another_dict = dict()\n",
    "\n",
    "type(mydict)\n",
    "isinstance(another_dict, dict)"
   ]
  },
  {
   "cell_type": "markdown",
   "metadata": {},
   "source": [
    "##### Accessing Values"
   ]
  },
  {
   "cell_type": "code",
   "execution_count": 2,
   "metadata": {},
   "outputs": [
    {
     "data": {
      "text/plain": [
       "'sean'"
      ]
     },
     "execution_count": 2,
     "metadata": {},
     "output_type": "execute_result"
    }
   ],
   "source": [
    "# instead of indexing into a dictionary(like we do with a tuple or list), we access it via a value's key.\n",
    "my_dict = {'class': 'Matrix-123', 'instructors': ('sean', 'dylan')}\n",
    "\n",
    "my_dict['class']\n",
    "\n",
    "#grabbing the instructors values (entire tuple) from the dictionary\n",
    "my_dict['instructors']\n",
    "\n",
    "# Specifically calling sean from the instructors key.\n",
    "my_dict ['instructors'][0]"
   ]
  },
  {
   "cell_type": "code",
   "execution_count": 3,
   "metadata": {},
   "outputs": [
    {
     "ename": "NameError",
     "evalue": "name 'dylan_car_dict' is not defined",
     "output_type": "error",
     "traceback": [
      "\u001b[0;31m---------------------------------------------------------------------------\u001b[0m",
      "\u001b[0;31mNameError\u001b[0m                                 Traceback (most recent call last)",
      "Cell \u001b[0;32mIn[3], line 5\u001b[0m\n\u001b[1;32m      1\u001b[0m \u001b[38;5;66;03m#Get Method\u001b[39;00m\n\u001b[1;32m      2\u001b[0m \n\u001b[1;32m      3\u001b[0m \u001b[38;5;66;03m#<dict>.get(<key>, <optional default value if key doesn't exist)\u001b[39;00m\n\u001b[0;32m----> 5\u001b[0m \u001b[43mdylan_car_dict\u001b[49m\u001b[38;5;241m.\u001b[39mget(\u001b[38;5;124m'\u001b[39m\u001b[38;5;124mmake\u001b[39m\u001b[38;5;124m'\u001b[39m)\n\u001b[1;32m      8\u001b[0m \u001b[38;5;66;03m#the optional argument is good for updating a value \u001b[39;00m\n\u001b[1;32m      9\u001b[0m sean_car_dict[\u001b[38;5;124m'\u001b[39m\u001b[38;5;124myear\u001b[39m\u001b[38;5;124m'\u001b[39m] \u001b[38;5;241m=\u001b[39m sean_car_dict\u001b[38;5;241m.\u001b[39mget(\u001b[38;5;124m'\u001b[39m\u001b[38;5;124myear\u001b[39m\u001b[38;5;124m'\u001b[39m, \u001b[38;5;241m2020\u001b[39m) \u001b[38;5;241m+\u001b[39m\u001b[38;5;241m1\u001b[39m\n",
      "\u001b[0;31mNameError\u001b[0m: name 'dylan_car_dict' is not defined"
     ]
    }
   ],
   "source": [
    "#Get Method\n",
    "\n",
    "#<dict>.get(<key>, <optional default value if key doesn't exist)\n",
    "\n",
    "dylan_car_dict.get('make')\n",
    "\n",
    "\n",
    "#the optional argument is good for updating a value \n",
    "sean_car_dict['year'] = sean_car_dict.get('year', 2020) +1\n",
    "print(sean_car_dict)"
   ]
  },
  {
   "cell_type": "markdown",
   "metadata": {},
   "source": [
    "## In-Class Exercise #1 - Print a formatted statement from the dictionary below <br>\n",
    "<p>The output should be '2018 Chevrolet Silverado'</p>"
   ]
  },
  {
   "cell_type": "code",
   "execution_count": null,
   "metadata": {},
   "outputs": [],
   "source": [
    "# use the dict below\n",
    "truck = {\n",
    "    'year': 2018,\n",
    "    'make': 'Chevrolet',\n",
    "    'model': 'Silverado'\n",
    "}\n",
    "\n",
    "print(f\"{truck['year']} {truck['make']} {truck['model']}\")"
   ]
  },
  {
   "cell_type": "code",
   "execution_count": null,
   "metadata": {},
   "outputs": [],
   "source": [
    "#why a dictionary over a list?\n",
    "\n",
    "dylan_car = ['honda', '2007', 'fit','white']\n",
    "\n",
    "sean_car = ['red', 'tesla', 'x', '2022', 'electric']\n",
    "\n",
    "\n",
    "#what if we want to grab out car makes?\n",
    "#You would need to look up the index location in each list for the respective information. This index is\n",
    "#subject to change and is not a permanent location stored in memory. \n",
    "#using a dictionary, you have an associated key whose connection with the value will not change regardless \n",
    "#what else is in the dictionary or added/taken away.\n",
    "#i.e., in a dictionary, a value is associated with a key, not a impermanent location/index as in a list.\n",
    "\n",
    "dylan_car_dict = {'make':'honda', 'model': 'fit'}\n",
    "\n",
    "sean_car_dict = {'make':'tesla', 'model': 'fit'}"
   ]
  },
  {
   "cell_type": "markdown",
   "metadata": {},
   "source": [
    "##### Adding New Pairs"
   ]
  },
  {
   "cell_type": "code",
   "execution_count": null,
   "metadata": {},
   "outputs": [],
   "source": [
    "print(dylan_car_dict)\n",
    "\n",
    "dylan_car_dict['year'] = 2006\n",
    "\n",
    "print(dylan_car_dict)"
   ]
  },
  {
   "cell_type": "markdown",
   "metadata": {},
   "source": [
    "##### Modifying Values"
   ]
  },
  {
   "cell_type": "code",
   "execution_count": null,
   "metadata": {},
   "outputs": [],
   "source": [
    "dylan_car_dict['color'] = 'white'\n",
    "\n",
    "print(dylan_car_dict)"
   ]
  },
  {
   "cell_type": "code",
   "execution_count": null,
   "metadata": {},
   "outputs": [],
   "source": [
    "dylan_car_dict['color'] = 'hot pink'\n",
    "print(dylan_car_dict)"
   ]
  },
  {
   "cell_type": "markdown",
   "metadata": {},
   "source": [
    "##### Removing Key, Value Pairs"
   ]
  },
  {
   "cell_type": "code",
   "execution_count": null,
   "metadata": {},
   "outputs": [],
   "source": [
    "#del\n",
    "\n",
    "del dylan_car_dict['color']\n",
    "\n",
    "print(dylan_car_dict)"
   ]
  },
  {
   "cell_type": "code",
   "execution_count": null,
   "metadata": {},
   "outputs": [],
   "source": [
    "#.pop()\n",
    "\n",
    "print(sean_car_dict)\n",
    "\n",
    "# sean_car_dict.pop('year')\n",
    "# print(sean_car_dict)\n",
    "\n",
    "sean_make = sean_car_dict.pop('model')\n",
    "print(sean_make)"
   ]
  },
  {
   "cell_type": "markdown",
   "metadata": {},
   "source": [
    "##### Looping a Dictionary"
   ]
  },
  {
   "cell_type": "code",
   "execution_count": null,
   "metadata": {},
   "outputs": [],
   "source": [
    "# .items()\n",
    "# a, b, c = 1, 2, 3\n",
    "# print(a)\n",
    "# print(b)\n",
    "# print(c)\n",
    "\n",
    "dylan_car_dict.items() #creats a list of tuples with the first item being the key and the second the value\n",
    "\n",
    "# for item in dylan_car_dict.items():\n",
    "#     print(item)\n",
    "    \n",
    "    #to print each one\n",
    "#     print(f'{item[0]} {item[1]}')\n",
    "\n",
    "\n",
    "for key,value in dylan_car_dict.items(): #simpler\n",
    "    print(f'{key} {value}')"
   ]
  },
  {
   "cell_type": "code",
   "execution_count": null,
   "metadata": {},
   "outputs": [],
   "source": [
    "for key in dylan_car_dict:\n",
    "    print(key)\n",
    "    print(dylan_car_dict[key])"
   ]
  },
  {
   "cell_type": "markdown",
   "metadata": {},
   "source": [
    "##### Looping Only Keys"
   ]
  },
  {
   "cell_type": "code",
   "execution_count": null,
   "metadata": {},
   "outputs": [],
   "source": [
    "# .keys()\n",
    "\n",
    "dylan_car_dict.keys()\n",
    "\n",
    "for key in dylan_car_dict.keys():\n",
    "    print(key)\n",
    "    print(dylan_car_dict[key])\n",
    "    \n",
    "    print(f'{key = } {dylan_car_dict[key] =}')"
   ]
  },
  {
   "cell_type": "markdown",
   "metadata": {},
   "source": [
    "##### Looping Only Values"
   ]
  },
  {
   "cell_type": "code",
   "execution_count": null,
   "metadata": {},
   "outputs": [],
   "source": [
    "# .values()\n",
    "\n",
    "dylan_car_dict.values()\n",
    "\n",
    "for car_info in dylan_car_dict.values():\n",
    "    print(car_info)\n",
    "\n",
    "#Cannot get key from value!\n",
    "#     print(dylan_car_dict[car_info])"
   ]
  },
  {
   "cell_type": "markdown",
   "metadata": {},
   "source": [
    "## In-Class Exercise #2 - Create a Function that Prints All Key Value Pairs within a print .format() <br>\n",
    "<p><b>Output should be:</b><br>\n",
    "Max has blue eyes<br>\n",
    "Lilly has brown eyes<br>\n",
    "Barney has blue eyes<br>\n",
    "etc.\n",
    "</p>"
   ]
  },
  {
   "cell_type": "code",
   "execution_count": null,
   "metadata": {},
   "outputs": [],
   "source": [
    "# use the dict below\n",
    "\n",
    "people = {\n",
    "    'Max': 'blue',\n",
    "    'Lilly': 'brown',\n",
    "    'Barney': 'blue',\n",
    "    'Larney': 'brown',\n",
    "    'Ted': 'purple'\n",
    "}\n",
    "\n",
    "def eyes(people_dict):\n",
    "    for key, value in people_dict.items():\n",
    "        print(f'{key} has {value} eyes.')\n",
    "    \n",
    "print(eyes(people))"
   ]
  },
  {
   "cell_type": "code",
   "execution_count": null,
   "metadata": {},
   "outputs": [],
   "source": [
    "#create a function that takes in a list of numbers and returns the number that occurs the most times\n",
    "\n",
    "#e.g., input - [1,1,7,1,7,8,1,8,8,7,7,1]\n",
    "#output ->\n",
    "\n",
    "def most_occur(num_list):\n",
    "    num_count = {}\n",
    "    for num in num_list:\n",
    "        num_count[num] = num_count.get(num, 0) + 1\n",
    "    max_value= 0\n",
    "    output = None\n",
    "    for num,count in num_count.items():\n",
    "        if count > max_value:\n",
    "            max_value = count\n",
    "            output = num\n",
    "        return output\n",
    "    \n",
    "print(most_occur([1,1,7,1,7,8,1,8,8,7,7,1]))\n",
    "\n",
    "\n",
    "def most_occur2(num_list):\n",
    "    num_count = {}\n",
    "    for num in num_list:\n",
    "        if num not in num_count:\n",
    "            num_count[num] = 0\n",
    "        num_count[num] += 1\n",
    "    max_value= 0\n",
    "    output = None\n",
    "    for num,count in num_count.items():\n",
    "        if count > max_value:\n",
    "            max_value = count\n",
    "            output = num\n",
    "        return output\n",
    "    \n",
    "print(most_occur2([1,1,7,1,7,8,1,8,8,7,7,1]))"
   ]
  },
  {
   "cell_type": "markdown",
   "metadata": {},
   "source": [
    "##### sorted()"
   ]
  },
  {
   "cell_type": "code",
   "execution_count": null,
   "metadata": {},
   "outputs": [],
   "source": [
    "# sorts variables in order \n",
    "#the return value will always be a sorted list\n",
    "# sorted(dict.values()) or dict.keys() or dict.items()\n",
    "\n",
    "sorted(people) #only a sorted list of the keys\n",
    "\n",
    "sorted(people.values()) #only sorts the values\n",
    "\n",
    "sorted(people.items())#sorted list of tuples sorted by the keys"
   ]
  },
  {
   "cell_type": "markdown",
   "metadata": {},
   "source": [
    "##### List with Dictionaries"
   ]
  },
  {
   "cell_type": "code",
   "execution_count": null,
   "metadata": {},
   "outputs": [],
   "source": [
    "#list with nested dictionaries\n",
    "\n",
    "rockstars = [\n",
    "    {\n",
    "        'name': 'Jimi',\n",
    "        'age': 32,\n",
    "        'instruments': ['guitar', 'keyboard', 'drums']\n",
    "    },\n",
    "    \n",
    "    {\n",
    "        'name': 'Sean',\n",
    "        'age': 24,\n",
    "        'instruments': ['bass', 'sax']\n",
    "    },\n",
    "    \n",
    "    {\n",
    "        'name': 'Bob Dylan',\n",
    "        'age': 45,\n",
    "        'instruments': ['harmonica', 'guitar']\n",
    "    }\n",
    "]\n",
    "\n",
    "\n",
    "#How do we pull out Sean's age from this list with nested dictionaries?\n",
    "#listname[<list index>][<dictionary key]\n",
    "print(rockstars[1]['age'])\n",
    "\n",
    "\n",
    "#keyboard, sax, guitar\n",
    "for dictionary in rockstars:\n",
    "    for key in dictionary:\n",
    "        if key == 'instruments': #once we have got here, we are already at the dictionary and don't need to go out\n",
    "            print(dictionary[key][1])\n",
    "\n",
    "#same as above but using enumerate\n",
    "for i, dic in enumerate(rockstars):\n",
    "    for k in dic:\n",
    "        if k == 'instruments':\n",
    "            print(rockstars[i][k][1])\n",
    "\n",
    "            \n",
    "#Bob Dylan, 45, Harmonica\n",
    "print('{} is {} years old and plays {}'.format(rockstars[2]['name'], rockstars[2]['age'], \n",
    "                                               rockstars[2]['instruments'][0]))"
   ]
  },
  {
   "cell_type": "code",
   "execution_count": null,
   "metadata": {},
   "outputs": [],
   "source": [
    "#enumerate\n",
    "\n",
    "letter_list = ['a', 'b', 'c']\n",
    "\n",
    "print(list(enumerate(letter_list)))"
   ]
  },
  {
   "cell_type": "markdown",
   "metadata": {},
   "source": [
    "##### Dictionaries with Lists"
   ]
  },
  {
   "cell_type": "code",
   "execution_count": null,
   "metadata": {},
   "outputs": [],
   "source": [
    "# be careful when using numbers as keys in dictionaries, don't confuse them with indexes\n",
    "\n",
    "sean = {\n",
    "    'career':'rockstar',\n",
    "    'car':'tesla',\n",
    "    'car-year': 2020,\n",
    "    'hobbies':['disc golf', 'pool world championships', 'coding instructor']\n",
    "}\n"
   ]
  },
  {
   "cell_type": "markdown",
   "metadata": {},
   "source": [
    "##### Dictionaries with Dictionaries"
   ]
  },
  {
   "cell_type": "code",
   "execution_count": null,
   "metadata": {},
   "outputs": [],
   "source": [
    "# to get values, must traverse through keys\n",
    "\n",
    "sean['car'] = {\n",
    "    'make': 'tesla',\n",
    "    'year': 2020\n",
    "}\n",
    "\n",
    "print(sean)\n",
    "\n",
    "sean.pop('car-year')\n",
    "print(sean)"
   ]
  },
  {
   "cell_type": "code",
   "execution_count": null,
   "metadata": {},
   "outputs": [],
   "source": [
    "shopping_cart = {\n",
    "    'bread': {\n",
    "        'quantity': 4,\n",
    "        'price': 7\n",
    "    },\n",
    "    \n",
    "    'milk': {\n",
    "        'quantity': 5,\n",
    "        'price': 8\n",
    "    }\n",
    "}\n",
    "\n",
    "def format_item(item):\n",
    "    return f\"{item} price: {shopping_cart[item]['price']} quantity:{shopping_cart[item]['quantity']}\"\n",
    "\n",
    "print(format_item('bread'))"
   ]
  },
  {
   "cell_type": "markdown",
   "metadata": {},
   "source": [
    "## Dictionaries vs. Lists (over time) Example of RUNTIME\n",
    "### When inputting values in a Dictionary vs List"
   ]
  },
  {
   "cell_type": "code",
   "execution_count": null,
   "metadata": {},
   "outputs": [],
   "source": [
    "import time\n",
    "\n",
    "\n",
    "# generate fake dictionary\n",
    "d = {}\n",
    "\n",
    "for i in range(10000000):\n",
    "    d[i] = 'value'\n",
    "    \n",
    "\n",
    "# generate fake list\n",
    "big_list = [x for x in range(10000000)]"
   ]
  },
  {
   "cell_type": "code",
   "execution_count": null,
   "metadata": {},
   "outputs": [],
   "source": [
    "# tracking time for dictionary\n",
    "start_time = time.time()\n",
    "\n",
    "print(d[9999999])\n",
    "\n",
    "end_time = time.time() - start_time\n",
    "\n",
    "print('Elapsed time for dictionary: {}'.format(end_time))\n",
    "\n",
    "\n",
    "# tracking time for list\n",
    "start_time = time.time()\n",
    "\n",
    "for i in range(len(big_list)):\n",
    "    if i == 9999999:\n",
    "        print(i)\n",
    "\n",
    "end_time = time.time() - start_time\n",
    "\n",
    "print('Elapsed time for list: {}'.format(end_time))"
   ]
  },
  {
   "cell_type": "markdown",
   "metadata": {},
   "source": [
    "## Exercise #3 - Write a Function that asks someone's name and address, and then stores that into a dictionary, and continues to do so until they choose to 'quit'. Once they quit, the program should print all names and addresses. <br>\n",
    "<p>\n",
    "<b>Proper steps:</b><br>\n",
    "step 1: write a function that takes in information and stores it in a dictionary<br>\n",
    "step 2: define an empty dictionary to work with<br>\n",
    "step 3: create our loop, which asks the user for information until they quit<br>\n",
    "step 4: ask for the information, and store it into variables<br>\n",
    "step 5: check if the user types quit<br>\n",
    "step 5a: print out all information<br>\n",
    "step 5b: break out of the loop<br>\n",
    "step 6: if they didn't quit, add the information to the dictionary<br>\n",
    "step 7: invoke the function by calling it\n",
    "</p>"
   ]
  },
  {
   "cell_type": "code",
   "execution_count": null,
   "metadata": {},
   "outputs": [],
   "source": [
    "from IPython.display import clear_output\n",
    "\n",
    "user_info = {}\n",
    "\n",
    "def personal_info(name, address):\n",
    "    user_info[name] = address\n",
    "    \n",
    "def Acquire():\n",
    "    while True: #saying it will keep running through until it returns false, here, if the user chooses 'q'\n",
    "        name = input(\"What is your name? \")\n",
    "        address = input(\"What is your address? \")\n",
    "        personal_info(name, address)\n",
    "        \n",
    "        cont = input(\"Do you want to continue or quit? \")\n",
    "        \n",
    "        if cont == 'q':\n",
    "            break\n",
    "        \n",
    "        print(user_info)\n",
    "        \n",
    "\n",
    "################ Ben C's answer\n",
    "all_info = []\n",
    "while True:\n",
    "    name_input = input(\"Please add a name: \")\n",
    "    add_input = input(\"Please add an address: \")\n",
    "    diction = {'name' : name_input,\n",
    "                'address' : add_input\n",
    "              }\n",
    "    all_info.append(diction)\n",
    "    user_input = input(\"Would you like to 'quit'? \")\n",
    "    if user_input == 'quit':\n",
    "        break\n",
    "print(all_info)\n",
    "\n",
    "\n",
    "\n",
    "\n",
    "\n",
    "\n",
    "\n",
    "\n",
    "\n",
    "\n"
   ]
  },
  {
   "cell_type": "markdown",
   "metadata": {},
   "source": [
    "## Set <br>\n",
    "<p>A Set is an unordered collection data type that is iterable (loop), mutable, and has no duplicate elements.<br>Major advantage is that it is highly optimized in checking if something is in the set, as opposed to checking if something is in a list.</p>"
   ]
  },
  {
   "cell_type": "markdown",
   "metadata": {},
   "source": [
    "##### Declaring"
   ]
  },
  {
   "cell_type": "code",
   "execution_count": null,
   "metadata": {},
   "outputs": [],
   "source": [
    "# set() or {}\n",
    "#since they are unordered we cannot count on them maintaining their position w/in a set\n",
    "# no order {3, 2, 1} outputs as {1, 2, 3}\n",
    "\n",
    "my_set = {'a', 'b', 'c'}\n",
    "\n",
    "type(my_set)\n",
    "isinstance(my_set, set)\n",
    "\n",
    "another_set = set((1,2,3)) #common to use tuple version in this style\n",
    "another_set = set([1,2,3]) #can be done like this too"
   ]
  },
  {
   "cell_type": "markdown",
   "metadata": {},
   "source": [
    "##### .add()"
   ]
  },
  {
   "cell_type": "code",
   "execution_count": null,
   "metadata": {},
   "outputs": [],
   "source": [
    "# set.add()\n",
    "\n",
    "students = set()\n",
    "\n",
    "students.add('michael')\n",
    "\n",
    "students.add('christian')\n",
    "\n",
    "students\n",
    "\n",
    "students.add('david')\n",
    "\n",
    "students.add('sima')\n",
    "students.add('ben')\n",
    "students.add('ben') #because we cannot have a duplicate item inside our set (only unique values) ben is only in once.\n",
    "\n",
    "students"
   ]
  },
  {
   "cell_type": "markdown",
   "metadata": {},
   "source": [
    "##### .remove()"
   ]
  },
  {
   "cell_type": "code",
   "execution_count": null,
   "metadata": {},
   "outputs": [],
   "source": [
    "# removes by value\n",
    "# set.remove()\n",
    "# nums.remove(56)\n",
    "#throws an error if value is not present in set\n",
    "\n",
    "students.remove('michael')\n",
    "\n",
    "print(students)"
   ]
  },
  {
   "cell_type": "code",
   "execution_count": null,
   "metadata": {},
   "outputs": [],
   "source": [
    "#discard\n",
    "#also removes element by value\n",
    "#doesn't break if value doesn't exist\n",
    "\n",
    "students.discard('david')"
   ]
  },
  {
   "cell_type": "markdown",
   "metadata": {},
   "source": [
    "##### .union() "
   ]
  },
  {
   "cell_type": "code",
   "execution_count": null,
   "metadata": {},
   "outputs": [],
   "source": [
    "# Returns a union of two sets, can also use '|' or set.union(set)\n",
    "# joins all numbers, gets rid of duplicates\n",
    "\n",
    "\n",
    "print(students.union({'tajay', 'mehrab'})) #out of place function (i.e., will not permanently alter the OG list)\n",
    "\n",
    "print(students)\n",
    "\n",
    "\n",
    "#shorthand union\n",
    "students | {'todd', 'yea', 'hamed'}"
   ]
  },
  {
   "cell_type": "markdown",
   "metadata": {},
   "source": [
    "##### .intersection()"
   ]
  },
  {
   "cell_type": "code",
   "execution_count": null,
   "metadata": {},
   "outputs": [],
   "source": [
    "# Returns an intersection of two sets, can also use '&'\n",
    "# only takes similar elements from both sets\n",
    "\n",
    "monday_attendance = {'michael', 'christian', 'tajay', 'ben c'}\n",
    "\n",
    "friday_attendance = {'michael', 'tajay', 'david', 'mehrab'}\n",
    "\n",
    "#fleshed out\n",
    "perfect_attendance = monday_attendance.intersection(friday_attendance)\n",
    "print(perfect_attendance)\n",
    "\n",
    "#shorthand\n",
    "print(monday_attendance & friday_attendance)"
   ]
  },
  {
   "cell_type": "markdown",
   "metadata": {},
   "source": [
    "##### .difference()"
   ]
  },
  {
   "cell_type": "code",
   "execution_count": null,
   "metadata": {},
   "outputs": [],
   "source": [
    "# Returns a set containing all the elements of invoking set that are not in the second set, can also use '-'\n",
    "# only takes values from the first set that are not in the second set\n",
    "# order matters\n",
    "\n",
    "#shorthand - who was not here on Friday, but was on Monday\n",
    "print(monday_attendance - friday_attendance)\n",
    "\n",
    "\n",
    "#fleshed out - who was not here on Monday but they were on Friday\n",
    "print(friday_attendance.difference(monday_attendance))"
   ]
  },
  {
   "cell_type": "markdown",
   "metadata": {},
   "source": [
    "##### .clear()"
   ]
  },
  {
   "cell_type": "code",
   "execution_count": null,
   "metadata": {},
   "outputs": [],
   "source": [
    "# Empties the whole set\n",
    "# set.clear()\n",
    "\n",
    "students.clear()\n",
    "\n",
    "students"
   ]
  },
  {
   "cell_type": "markdown",
   "metadata": {},
   "source": [
    "##### Frozenset <br>\n",
    "<p>Frozen sets are immutable objects that only support methods and operators that produce a result without affecting the frozen set or sets to which they are applied.</p><br><b>Unique & Immutable</b>"
   ]
  },
  {
   "cell_type": "code",
   "execution_count": null,
   "metadata": {},
   "outputs": [],
   "source": [
    "# frozenset([])\n",
    "\n",
    "\n",
    "days = frozenset(['monday', 'tuesday', 'wednesday', 'thursday', 'friday'])\n",
    "\n",
    "print(days)\n",
    "\n",
    "days_unfrozen = set(days)\n",
    "\n",
    "print(days_unfrozen)"
   ]
  },
  {
   "cell_type": "markdown",
   "metadata": {},
   "source": [
    "## Modules"
   ]
  },
  {
   "cell_type": "markdown",
   "metadata": {},
   "source": [
    "##### Importing Entire Modules"
   ]
  },
  {
   "cell_type": "code",
   "execution_count": null,
   "metadata": {},
   "outputs": [],
   "source": [
    "# import or from 'xxx' import *\n",
    "#typically don't recommend importing the entire module\n",
    "import math\n",
    "\n",
    "import module\n",
    "\n",
    "module.printName('Knudson')\n",
    "\n",
    "print(math.pi)"
   ]
  },
  {
   "cell_type": "markdown",
   "metadata": {},
   "source": [
    "##### Importing Methods Only"
   ]
  },
  {
   "cell_type": "code",
   "execution_count": null,
   "metadata": {},
   "outputs": [],
   "source": [
    "# from 'xxx' import 'xxx'\n",
    "# from math import floor\n",
    "#having imported the specific method, I can now call that module w/o having to reference the module like above\n",
    "#this is the recommended route when it comes to importing\n",
    "\n",
    "\n",
    "from module import printName\n",
    "\n",
    "printName('Knudson')\n",
    "\n",
    "from math import pi\n",
    "\n",
    "pi"
   ]
  },
  {
   "cell_type": "markdown",
   "metadata": {},
   "source": [
    "##### Using the 'as' Keyword"
   ]
  },
  {
   "cell_type": "code",
   "execution_count": null,
   "metadata": {},
   "outputs": [],
   "source": [
    "# from 'xxx' import 'xxx' as 'xxx' or import 'xxx' as 'xxx'\n",
    "# from math import floor as f\n",
    "\n",
    "from module import printName as pN\n",
    "\n",
    "pN('Knudson')\n"
   ]
  },
  {
   "cell_type": "markdown",
   "metadata": {},
   "source": [
    "##### Creating a Module"
   ]
  },
  {
   "cell_type": "code",
   "execution_count": null,
   "metadata": {},
   "outputs": [],
   "source": [
    "from module import adder\n",
    "\n",
    "adder(5,9)"
   ]
  },
  {
   "cell_type": "markdown",
   "metadata": {},
   "source": [
    "# Exercises"
   ]
  },
  {
   "cell_type": "markdown",
   "metadata": {},
   "source": [
    "### 1) Build a Shopping Cart <br>\n",
    "<p><b>You can use either lists or dictionaries. The program should have the following capabilities:</b><br><br>\n",
    "1) Takes in input <br>\n",
    "2) Stores user input into a dictionary or list <br>\n",
    "3) The User can add or delete items <br>\n",
    "4) The User can see current shopping list <br>\n",
    "5) The program Loops until user 'quits' <br>\n",
    "6) Upon quiting the program, print out all items in the user's list <br>\n",
    "</p>"
   ]
  },
  {
   "cell_type": "code",
   "execution_count": 5,
   "metadata": {},
   "outputs": [
    {
     "name": "stdout",
     "output_type": "stream",
     "text": [
      "\n",
      "Do you want to add to your cart [a], remove an item from your cart [r], see your cart [s], or quit [q]?a\n",
      "What would you like to add? \n",
      "Item name: milk\n",
      "Quantity: 3 gallons\n",
      "\n",
      "Do you want to add to your cart [a], remove an item from your cart [r], see your cart [s], or quit [q]?a\n",
      "What would you like to add? \n",
      "Item name: chocolate\n",
      "Quantity: 5 lbs\n",
      "\n",
      "Do you want to add to your cart [a], remove an item from your cart [r], see your cart [s], or quit [q]?a\n",
      "What would you like to add? \n",
      "Item name: marshmallows\n",
      "Quantity: 18 bags\n",
      "\n",
      "Do you want to add to your cart [a], remove an item from your cart [r], see your cart [s], or quit [q]?a\n",
      "What would you like to add? \n",
      "Item name: graham crackers\n",
      "Quantity: 4 boxes\n",
      "\n",
      "Do you want to add to your cart [a], remove an item from your cart [r], see your cart [s], or quit [q]?a\n",
      "What would you like to add? \n",
      "Item name: celery\n",
      "Quantity: 2 bundles\n",
      "\n",
      "Do you want to add to your cart [a], remove an item from your cart [r], see your cart [s], or quit [q]?r\n",
      "What would you like to remove? \n",
      "Item name: celery\n",
      "\n",
      "Do you want to add to your cart [a], remove an item from your cart [r], see your cart [s], or quit [q]?s\n",
      "{'milk': {'quantity': '3 gallons'}, 'chocolate': {'quantity': '5 lbs'}, 'marshmallows': {'quantity': '18 bags'}, 'graham crackers': {'quantity': '4 boxes'}}\n",
      "\n",
      "Do you want to add to your cart [a], remove an item from your cart [r], see your cart [s], or quit [q]?q\n",
      "\n",
      "\n",
      "Here is your shopping cart: {'milk': {'quantity': '3 gallons'}, 'chocolate': {'quantity': '5 lbs'}, 'marshmallows': {'quantity': '18 bags'}, 'graham crackers': {'quantity': '4 boxes'}}\n",
      "\n",
      "Please come back soon!\n"
     ]
    }
   ],
   "source": [
    "from IPython.display import clear_output\n",
    "\n",
    "# Ask the user four bits of input: Do you want to : Show/Add/Delete or Quit?\n",
    "\n",
    "#create a function for this\n",
    "#ask the user for input with options for adding, deleting, seeing the shopping cart as it stands, or quitting\n",
    "#each of these options will have an if statement with a corresponding action\n",
    "#the program will run until the user says quit\n",
    "#choosing quit will also show the the user the shopping cart\n",
    "\n",
    "\n",
    "\n",
    "#NEEDED FUNCTIONS\n",
    "def add(name, quant): #define my function with the needed arguments\n",
    "    shopping_cart[name] = {   #assigning my input arguments to keys and value pairs in my dictionary\n",
    "        'quantity': quant\n",
    "    }\n",
    "    \n",
    "def remove(name):  #define function to remove the given key from dictionary\n",
    "    shopping_cart.pop(name) #item and quantity will be removed by removing the key\n",
    "\n",
    "def see(): #show the customer their cart as it stands\n",
    "    print(shopping_cart)\n",
    "\n",
    "#USER'S CART\n",
    "shopping_cart = {} #empty cart to be populated via adding\n",
    "\n",
    "\n",
    "#MAIN DIALOGUE\n",
    "def user_list():\n",
    "    while True: #to ensure that the function continues to run until the user chooses to break out of it\n",
    "        query = input(\"\\nDo you want to add to your cart [a], remove an item from your cart [r], see your cart [s], or quit [q]?\").lower()\n",
    "        if query =='a': #if input's variable is returned a, it will execute the given conditional\n",
    "            print('What would you like to add? ')\n",
    "            name = input('Item name: ').lower() #assign input to name variable (to fill add argument1)\n",
    "            quant = input('Quantity: ') #assign input to quant variable (to fill add argument2)\n",
    "#             if int(quant) <= 0:\n",
    "#                 print('Please enter a valid quantity.') #removed this to allow for a quantity unit breadth\n",
    "            add(name, quant)    #calls the add function that inserts the new key:value pair to the dictionary\n",
    "            \n",
    "        elif query == 'r': #if input's variable is returned r, it will execute the given conditional\n",
    "            print('What would you like to remove? ')\n",
    "            name = input('Item name: ') #assigns user input to name variable, which is used in the remove function\n",
    "            remove(name) #calls the remove function to delete the item from the dictionary via the key\n",
    "\n",
    "        elif query == 's': #if input's variable is returned s, it will execute the given conditional\n",
    "            see() #it will show the user their shopping_cart as it currently stands\n",
    "            \n",
    "        elif query == 'q': #if input's variable is returned p, it will execute the given conditional\n",
    "            print(f'\\n\\nHere is your shopping cart: {shopping_cart}') #given a message and shown shopping_cart\n",
    "            print('\\nPlease come back soon!')\n",
    "            break #ends the loop, breaking the user out of the while statement\n",
    "        \n",
    "        else: #requires the user to put in an approved input from the given list\n",
    "            print('Please enter a valid input.')\n",
    "\n",
    "user_list()\n",
    "\n"
   ]
  },
  {
   "cell_type": "markdown",
   "metadata": {},
   "source": [
    "### 2) Create a Module in VS Code and Import It into jupyter notebook <br>\n",
    "<p><b>Module should have the following capabilities:</b><br><br>\n",
    "1) Has a function to calculate the square footage of a house <br>\n",
    "    <b>Reminder of Formula: Length X Width == Area<br>\n",
    "        <hr>\n",
    "2) Has a function to calculate the circumference of a circle <br><br>\n",
    "<b>Program in Jupyter Notebook should take in user input and use imported functions to calculate a circle's circumference or a houses square footage</b>\n",
    "</p>"
   ]
  },
  {
   "cell_type": "code",
   "execution_count": 6,
   "metadata": {},
   "outputs": [
    {
     "name": "stdout",
     "output_type": "stream",
     "text": [
      "The square footage of this home is 175000!\n",
      "The circumference of your circle is 226.08!\n"
     ]
    }
   ],
   "source": [
    "\n",
    "from modulesHw import sq_footage\n",
    "from modulesHw import circumference\n",
    "\n",
    "sq_footage(500, 350)\n",
    "\n",
    "circumference(36)"
   ]
  }
 ],
 "metadata": {
  "kernelspec": {
   "display_name": "Python 3 (ipykernel)",
   "language": "python",
   "name": "python3"
  },
  "language_info": {
   "codemirror_mode": {
    "name": "ipython",
    "version": 3
   },
   "file_extension": ".py",
   "mimetype": "text/x-python",
   "name": "python",
   "nbconvert_exporter": "python",
   "pygments_lexer": "ipython3",
   "version": "3.10.9"
  }
 },
 "nbformat": 4,
 "nbformat_minor": 2
}
